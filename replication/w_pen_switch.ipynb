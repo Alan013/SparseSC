{
 "cells": [
  {
   "source": [
    "This tries alternate ways of fitting w_pen"
   ],
   "cell_type": "markdown",
   "metadata": {}
  },
  {
   "cell_type": "code",
   "execution_count": 11,
   "metadata": {},
   "outputs": [],
   "source": [
    "import pickle\n",
    "import random\n",
    "import datetime\n",
    "\n",
    "import scipy\n",
    "import numpy as np\n",
    "import pandas as pd\n",
    "\n",
    "try:\n",
    "    import SparseSC as SC\n",
    "except ImportError:\n",
    "    raise RuntimeError(\"SparseSC is not installed. Use 'pip install -e .' or 'conda develop .' from repo root to install in dev mode\")"
   ]
  },
  {
   "cell_type": "code",
   "execution_count": 12,
   "metadata": {},
   "outputs": [],
   "source": [
    "random.seed(12345)\n",
    "np.random.seed(101101001)\n",
    "n_multi=5"
   ]
  },
  {
   "cell_type": "code",
   "execution_count": 13,
   "metadata": {},
   "outputs": [
    {
     "output_type": "execute_result",
     "data": {
      "text/plain": [
       "                 cigsale  lnincome  beer  age15to24   retprice\n",
       "state   year                                                  \n",
       "Alabama 1970   89.800003       NaN   NaN   0.178862  39.599998\n",
       "        1971   95.400002       NaN   NaN   0.179928  42.700001\n",
       "        1972  101.099998  9.498476   NaN   0.180994  42.299999\n",
       "        1973  102.900002  9.550107   NaN   0.182060  42.099998\n",
       "        1974  108.199997  9.537163   NaN   0.183126  43.099998"
      ],
      "text/html": "<div>\n<style scoped>\n    .dataframe tbody tr th:only-of-type {\n        vertical-align: middle;\n    }\n\n    .dataframe tbody tr th {\n        vertical-align: top;\n    }\n\n    .dataframe thead th {\n        text-align: right;\n    }\n</style>\n<table border=\"1\" class=\"dataframe\">\n  <thead>\n    <tr style=\"text-align: right;\">\n      <th></th>\n      <th></th>\n      <th>cigsale</th>\n      <th>lnincome</th>\n      <th>beer</th>\n      <th>age15to24</th>\n      <th>retprice</th>\n    </tr>\n    <tr>\n      <th>state</th>\n      <th>year</th>\n      <th></th>\n      <th></th>\n      <th></th>\n      <th></th>\n      <th></th>\n    </tr>\n  </thead>\n  <tbody>\n    <tr>\n      <th rowspan=\"5\" valign=\"top\">Alabama</th>\n      <th>1970</th>\n      <td>89.800003</td>\n      <td>NaN</td>\n      <td>NaN</td>\n      <td>0.178862</td>\n      <td>39.599998</td>\n    </tr>\n    <tr>\n      <th>1971</th>\n      <td>95.400002</td>\n      <td>NaN</td>\n      <td>NaN</td>\n      <td>0.179928</td>\n      <td>42.700001</td>\n    </tr>\n    <tr>\n      <th>1972</th>\n      <td>101.099998</td>\n      <td>9.498476</td>\n      <td>NaN</td>\n      <td>0.180994</td>\n      <td>42.299999</td>\n    </tr>\n    <tr>\n      <th>1973</th>\n      <td>102.900002</td>\n      <td>9.550107</td>\n      <td>NaN</td>\n      <td>0.182060</td>\n      <td>42.099998</td>\n    </tr>\n    <tr>\n      <th>1974</th>\n      <td>108.199997</td>\n      <td>9.537163</td>\n      <td>NaN</td>\n      <td>0.183126</td>\n      <td>43.099998</td>\n    </tr>\n  </tbody>\n</table>\n</div>"
     },
     "metadata": {},
     "execution_count": 13
    }
   ],
   "source": [
    "smoking_df = pd.read_stata(\"../replication/smoking.dta\")\n",
    "smoking_df['year'] = smoking_df['year'].astype('int')\n",
    "smoking_df = smoking_df.set_index(['state', 'year']).sort_index()\n",
    "smoking_df.head()"
   ]
  },
  {
   "cell_type": "code",
   "execution_count": 14,
   "metadata": {},
   "outputs": [
    {
     "output_type": "execute_result",
     "data": {
      "text/plain": [
       "                cigsale                                                  \\\n",
       "year               1970        1971        1972        1973        1974   \n",
       "state                                                                     \n",
       "Alabama       89.800003   95.400002  101.099998  102.900002  108.199997   \n",
       "Arkansas     100.300003  104.099998  103.900002  108.000000  109.699997   \n",
       "California   123.000000  121.000000  123.500000  124.400002  126.699997   \n",
       "Colorado     124.800003  125.500000  134.300003  137.899994  132.800003   \n",
       "Connecticut  120.000000  117.599998  110.800003  109.300003  112.400002   \n",
       "\n",
       "                                                                         ...  \\\n",
       "year               1975        1976        1977        1978        1979  ...   \n",
       "state                                                                    ...   \n",
       "Alabama      111.699997  116.199997  117.099998  123.000000  121.400002  ...   \n",
       "Arkansas     114.800003  119.099998  122.599998  127.300003  126.500000  ...   \n",
       "California   127.099998  128.000000  126.400002  126.099998  121.900002  ...   \n",
       "Colorado     131.000000  134.199997  132.000000  129.199997  131.500000  ...   \n",
       "Connecticut  110.199997  113.400002  117.300003  117.500000  117.400002  ...   \n",
       "\n",
       "                                                                         \\\n",
       "year               1991        1992        1993        1994        1995   \n",
       "state                                                                     \n",
       "Alabama      107.900002  109.099998  108.500000  107.099998  102.599998   \n",
       "Arkansas     116.800003  126.000000  113.800003  108.800003  113.000000   \n",
       "California    68.699997   67.500000   63.400002   58.599998   56.400002   \n",
       "Colorado      90.199997   88.300003   88.599998   89.099998   85.400002   \n",
       "Connecticut   86.699997   83.500000   79.099998   76.599998   79.300003   \n",
       "\n",
       "                                                                        \n",
       "year               1996        1997        1998        1999       2000  \n",
       "state                                                                   \n",
       "Alabama      101.400002  104.900002  106.199997  100.699997  96.199997  \n",
       "Arkansas     110.699997  108.699997  109.500000  104.800003  99.400002  \n",
       "California    54.500000   53.799999   52.299999   47.200001  41.599998  \n",
       "Colorado      83.099998   81.300003   81.199997   79.599998  73.000000  \n",
       "Connecticut   76.000000   75.900002   75.500000   73.400002  71.400002  \n",
       "\n",
       "[5 rows x 31 columns]"
      ],
      "text/html": "<div>\n<style scoped>\n    .dataframe tbody tr th:only-of-type {\n        vertical-align: middle;\n    }\n\n    .dataframe tbody tr th {\n        vertical-align: top;\n    }\n\n    .dataframe thead tr th {\n        text-align: left;\n    }\n\n    .dataframe thead tr:last-of-type th {\n        text-align: right;\n    }\n</style>\n<table border=\"1\" class=\"dataframe\">\n  <thead>\n    <tr>\n      <th></th>\n      <th colspan=\"21\" halign=\"left\">cigsale</th>\n    </tr>\n    <tr>\n      <th>year</th>\n      <th>1970</th>\n      <th>1971</th>\n      <th>1972</th>\n      <th>1973</th>\n      <th>1974</th>\n      <th>1975</th>\n      <th>1976</th>\n      <th>1977</th>\n      <th>1978</th>\n      <th>1979</th>\n      <th>...</th>\n      <th>1991</th>\n      <th>1992</th>\n      <th>1993</th>\n      <th>1994</th>\n      <th>1995</th>\n      <th>1996</th>\n      <th>1997</th>\n      <th>1998</th>\n      <th>1999</th>\n      <th>2000</th>\n    </tr>\n    <tr>\n      <th>state</th>\n      <th></th>\n      <th></th>\n      <th></th>\n      <th></th>\n      <th></th>\n      <th></th>\n      <th></th>\n      <th></th>\n      <th></th>\n      <th></th>\n      <th></th>\n      <th></th>\n      <th></th>\n      <th></th>\n      <th></th>\n      <th></th>\n      <th></th>\n      <th></th>\n      <th></th>\n      <th></th>\n      <th></th>\n    </tr>\n  </thead>\n  <tbody>\n    <tr>\n      <th>Alabama</th>\n      <td>89.800003</td>\n      <td>95.400002</td>\n      <td>101.099998</td>\n      <td>102.900002</td>\n      <td>108.199997</td>\n      <td>111.699997</td>\n      <td>116.199997</td>\n      <td>117.099998</td>\n      <td>123.000000</td>\n      <td>121.400002</td>\n      <td>...</td>\n      <td>107.900002</td>\n      <td>109.099998</td>\n      <td>108.500000</td>\n      <td>107.099998</td>\n      <td>102.599998</td>\n      <td>101.400002</td>\n      <td>104.900002</td>\n      <td>106.199997</td>\n      <td>100.699997</td>\n      <td>96.199997</td>\n    </tr>\n    <tr>\n      <th>Arkansas</th>\n      <td>100.300003</td>\n      <td>104.099998</td>\n      <td>103.900002</td>\n      <td>108.000000</td>\n      <td>109.699997</td>\n      <td>114.800003</td>\n      <td>119.099998</td>\n      <td>122.599998</td>\n      <td>127.300003</td>\n      <td>126.500000</td>\n      <td>...</td>\n      <td>116.800003</td>\n      <td>126.000000</td>\n      <td>113.800003</td>\n      <td>108.800003</td>\n      <td>113.000000</td>\n      <td>110.699997</td>\n      <td>108.699997</td>\n      <td>109.500000</td>\n      <td>104.800003</td>\n      <td>99.400002</td>\n    </tr>\n    <tr>\n      <th>California</th>\n      <td>123.000000</td>\n      <td>121.000000</td>\n      <td>123.500000</td>\n      <td>124.400002</td>\n      <td>126.699997</td>\n      <td>127.099998</td>\n      <td>128.000000</td>\n      <td>126.400002</td>\n      <td>126.099998</td>\n      <td>121.900002</td>\n      <td>...</td>\n      <td>68.699997</td>\n      <td>67.500000</td>\n      <td>63.400002</td>\n      <td>58.599998</td>\n      <td>56.400002</td>\n      <td>54.500000</td>\n      <td>53.799999</td>\n      <td>52.299999</td>\n      <td>47.200001</td>\n      <td>41.599998</td>\n    </tr>\n    <tr>\n      <th>Colorado</th>\n      <td>124.800003</td>\n      <td>125.500000</td>\n      <td>134.300003</td>\n      <td>137.899994</td>\n      <td>132.800003</td>\n      <td>131.000000</td>\n      <td>134.199997</td>\n      <td>132.000000</td>\n      <td>129.199997</td>\n      <td>131.500000</td>\n      <td>...</td>\n      <td>90.199997</td>\n      <td>88.300003</td>\n      <td>88.599998</td>\n      <td>89.099998</td>\n      <td>85.400002</td>\n      <td>83.099998</td>\n      <td>81.300003</td>\n      <td>81.199997</td>\n      <td>79.599998</td>\n      <td>73.000000</td>\n    </tr>\n    <tr>\n      <th>Connecticut</th>\n      <td>120.000000</td>\n      <td>117.599998</td>\n      <td>110.800003</td>\n      <td>109.300003</td>\n      <td>112.400002</td>\n      <td>110.199997</td>\n      <td>113.400002</td>\n      <td>117.300003</td>\n      <td>117.500000</td>\n      <td>117.400002</td>\n      <td>...</td>\n      <td>86.699997</td>\n      <td>83.500000</td>\n      <td>79.099998</td>\n      <td>76.599998</td>\n      <td>79.300003</td>\n      <td>76.000000</td>\n      <td>75.900002</td>\n      <td>75.500000</td>\n      <td>73.400002</td>\n      <td>71.400002</td>\n    </tr>\n  </tbody>\n</table>\n<p>5 rows × 31 columns</p>\n</div>"
     },
     "metadata": {},
     "execution_count": 14
    }
   ],
   "source": [
    "Y = smoking_df[['cigsale']].unstack('year')\n",
    "Y_cols = Y.columns\n",
    "Y.head()"
   ]
  },
  {
   "cell_type": "code",
   "execution_count": 15,
   "metadata": {},
   "outputs": [
    {
     "output_type": "stream",
     "name": "stdout",
     "text": [
      "(39, 31)\n[0, 1, 3, 4, 5, 6, 7, 8, 9, 10, 11, 12, 13, 14, 15, 16, 17, 18, 19, 20, 21, 22, 23, 24, 25, 26, 27, 28, 29, 30, 31, 32, 33, 34, 35, 36, 37, 38]\n"
     ]
    }
   ],
   "source": [
    "T0 = 19\n",
    "i_t = 2 #unit 3, but zero-index\n",
    "treated_units = [i_t]\n",
    "control_units = [u for u in range(Y.shape[0]) if u not in treated_units]\n",
    "print(Y.shape)\n",
    "print(control_units)"
   ]
  },
  {
   "cell_type": "code",
   "execution_count": 16,
   "metadata": {},
   "outputs": [
    {
     "output_type": "stream",
     "name": "stdout",
     "text": [
      "0\n"
     ]
    }
   ],
   "source": [
    "Y_names = Y.columns.get_level_values('year')\n",
    "Y_pre_names = [\"cigsale(\" + str(i) + \")\" for i in Y_names[:T0]]\n",
    "print(Y.isnull().sum().sum()) #0\n",
    "Y = Y.values\n",
    "T = Y.shape[1]\n",
    "T1 = T-T0\n",
    "Y_pre,Y_post = Y[:,:T0], Y[:,T0:]"
   ]
  },
  {
   "cell_type": "code",
   "execution_count": 17,
   "metadata": {},
   "outputs": [],
   "source": [
    "# Stata: synth cigsale beer(1984(1)1988) lnincome retprice age15to24 cigsale(1988) cigsale(1980) cigsale(1975), xperiod(1980(1)1988)  trunit(3) trperiod(1989) \n",
    "\n",
    "year_ind = smoking_df.index.get_level_values('year')\n",
    "beer_pre = smoking_df.loc[np.logical_and(year_ind>=1984, year_ind<=1988),[\"beer\"]]\n",
    "Xother_pre = smoking_df.loc[np.logical_and(year_ind>=1980, year_ind<=1988), ['lnincome', 'retprice', 'age15to24']]\n",
    "X_avgs = pd.concat((beer_pre.groupby('state').mean(), \n",
    "                    Xother_pre.groupby('state').mean())\n",
    "                   , axis=1)"
   ]
  },
  {
   "cell_type": "code",
   "execution_count": 18,
   "metadata": {},
   "outputs": [],
   "source": [
    "X_full = pd.concat((X_avgs, beer_pre.unstack('year'), Xother_pre.unstack('year')), axis=1)\n",
    "X_full_names = [c[0] + \"(\" + str(c[1]) + \")\" if len(c)==2 else c for c in X_full.columns]\n",
    "X_full.isnull().sum().sum() #0\n",
    "X_full = X_full.values\n",
    "X_Y_pre = np.concatenate((X_full, Y_pre), axis=1)\n",
    "X_Y_pre_names = X_full_names + Y_pre_names\n",
    "X_Y_pre_names_arr = np.array(X_Y_pre_names)"
   ]
  },
  {
   "cell_type": "code",
   "execution_count": 19,
   "metadata": {},
   "outputs": [],
   "source": [
    "def print_summary(fit, Y_pre, Y_post, Y_sc, fast=False, show_noNH = False):\n",
    "    Y_pre_sc,Y_post_sc = Y_sc[:,:T0], Y_sc[:,T0:]\n",
    "    V_vec = fit.match_space_desc if fast else np.diag(fit.V)\n",
    "    #print(\"V: \" + str(V_vec))\n",
    "    print(\"V>0: \" + str(V_vec[V_vec>0]))\n",
    "    print(\"#V>0: \" + str(sum(V_vec[V_vec>0])))\n",
    "    Y_pre_effect_c = Y_pre[control_units, :] - Y_pre_sc[control_units, :]\n",
    "    Y_post_effect_c = Y_post[control_units, :] - Y_post_sc[control_units, :]\n",
    "    \n",
    "    print(X_Y_pre_names_arr[V_vec>0])\n",
    "\n",
    "    def print_seg_info(arr, seg_name):\n",
    "        print(\"Avg bias \" + seg_name + \": \" + str(arr.mean()))\n",
    "        print(scipy.stats.ttest_1samp(arr.flatten(), popmean=0)) \n",
    "        print(\"Avg MSE \" + seg_name + \": \" + str(np.mean(np.power(arr, 2))) )\n",
    "        print(\"Avg max abs val \" + seg_name + \":\" + str(np.mean(np.amax(np.abs(arr), axis=0))))\n",
    "    \n",
    "    print_seg_info(Y_pre_effect_c, \"pre\")\n",
    "    print_seg_info(Y_post_effect_c, \"post\")\n",
    "\n",
    "    NH_idx = 20 #1-based index including treatment is 22\n",
    "    if show_noNH:    \n",
    "        Y_pre_effect_c_noNH = np.delete(Y_pre_effect_c, NH_idx, axis=0)\n",
    "        Y_post_effect_c_noNH = np.delete(Y_post_effect_c, NH_idx, axis=0)    \n",
    "        \n",
    "        print_seg_info(Y_pre_effect_c_noNH, \"pre (no-NH)\")\n",
    "        print_seg_info(Y_post_effect_c_noNH, \"post (no-NH)\")\n"
   ]
  },
  {
   "source": [
    "# Fast"
   ],
   "cell_type": "markdown",
   "metadata": {}
  },
  {
   "cell_type": "code",
   "execution_count": 20,
   "metadata": {},
   "outputs": [
    {
     "output_type": "stream",
     "name": "stdout",
     "text": [
      "Initial fit\n",
      "V>0: [  0.51300713  22.96821089  66.11994103  20.37246761   0.39536433\n",
      " 146.42793943   0.4007635    1.09141769   1.6124491 ]\n",
      "#V>0: 259.9015607131534\n",
      "['beer(1986)' 'lnincome(1985)' 'lnincome(1987)' 'lnincome(1988)'\n",
      " 'retprice(1985)' 'age15to24(1988)' 'cigsale(1986)' 'cigsale(1987)'\n",
      " 'cigsale(1988)']\n",
      "Avg bias pre: 0.4301708231606254\n",
      "Ttest_1sampResult(statistic=0.771940885975491, pvalue=0.44040237737110044)\n",
      "Avg MSE pre: 224.0824610330939\n",
      "Avg max abs val pre:43.172209630811594\n",
      "Avg bias post: -0.08712370978264666\n",
      "Ttest_1sampResult(statistic=-0.17214648490759957, pvalue=0.8633989092834)\n",
      "Avg MSE post: 116.55102105857189\n",
      "Avg max abs val post:26.988419004981978\n",
      "Cross fit\n",
      "Start time: 2021-01-21 14:11:06\n",
      "CROSS-FITTING:\n",
      " |>>>>>>>>>>>>>>>>>>>>>>>>>>>>>>>>>>>>>>>>>>>>>>>>>>>>>>>>>>>>>>>>>>>>>>>>>>>>>>>>>>>>>>>>>>>>>>>>>>>>| \n",
      "End time: 2021-01-21 14:11:19\n",
      "V>0: [  0.51300713  22.96821089  66.11994103  20.37246761   0.39536433\n",
      " 146.42793943   0.4007635    1.09141769   1.6124491 ]\n",
      "#V>0: 259.9015607131534\n",
      "['beer(1986)' 'lnincome(1985)' 'lnincome(1987)' 'lnincome(1988)'\n",
      " 'retprice(1985)' 'age15to24(1988)' 'cigsale(1986)' 'cigsale(1987)'\n",
      " 'cigsale(1988)']\n",
      "Avg bias pre: -1.489824553936142\n",
      "Ttest_1sampResult(statistic=-2.7386872269479716, pvalue=0.006320794770026769)\n",
      "Avg MSE pre: 215.58333295020086\n",
      "Avg max abs val pre:39.6316580521433\n",
      "Avg bias post: -1.2612779935201008\n",
      "Ttest_1sampResult(statistic=-2.442348963606056, pvalue=0.014971624280992992)\n",
      "Avg MSE post: 122.93462491067663\n",
      "Avg max abs val post:29.094580332438152\n",
      "Cross fit2\n",
      "Start time: 2021-01-21 14:11:19\n",
      "CROSS-FITTING:\n",
      " |>>>>>>>>>>>>>>>>>>>>>>>>>>>>>>>>>>>>>>>>>>>>>>>>>>>>>>>>>>>>>>>>>>>>>>>>>>>>>>>>>>>>>>>>>>>>>>>>>>>>| \n",
      "End time: 2021-01-21 14:12:54\n",
      "V>0: [  0.51300713  22.96821089  66.11994103  20.37246761   0.39536433\n",
      " 146.42793943   0.4007635    1.09141769   1.6124491 ]\n",
      "#V>0: 259.9015607131534\n",
      "['beer(1986)' 'lnincome(1985)' 'lnincome(1987)' 'lnincome(1988)'\n",
      " 'retprice(1985)' 'age15to24(1988)' 'cigsale(1986)' 'cigsale(1987)'\n",
      " 'cigsale(1988)']\n",
      "Avg bias pre: -1.7121408097961932\n",
      "Ttest_1sampResult(statistic=-3.1213360708472595, pvalue=0.0018721990631004903)\n",
      "Avg MSE pre: 219.86819155477187\n",
      "Avg max abs val pre:40.475624084472656\n",
      "Avg bias post: -1.037492693516246\n",
      "Ttest_1sampResult(statistic=-2.019539723293346, pvalue=0.0440169010149555)\n",
      "Avg MSE post: 121.15805320556132\n",
      "Avg max abs val post:28.980990091959637\n"
     ]
    }
   ],
   "source": [
    "print(\"Initial fit\")\n",
    "fast_fit = SC.fit_fast(X_Y_pre, Y_post, treated_units=[i_t], w_pen_inner=False)\n",
    "fast_Y_sc = fast_fit.predict(Y)\n",
    "print_summary(fast_fit, Y_pre, Y_post, fast_Y_sc, fast=True)\n",
    "\n",
    "print(\"Cross fit\")\n",
    "print(\"Start time: {}\".format(datetime.datetime.now().replace(microsecond=0)))\n",
    "honest_predictions_fast, cf_fits_fast = SC.get_c_predictions_honest(X_Y_pre[control_units,:], Y_post[control_units,:], Y[control_units,:], match_space_maker=SC.MTLasso_MatchSpace_factory(v_pen=fast_fit.fitted_v_pen), cf_folds=38, verbose=1, progress=False, fast=True, n_multi=0, w_pen_inner=False)\n",
    "print(\"End time: {}\".format(datetime.datetime.now().replace(microsecond=0)))\n",
    "fast_Y_sc_xf = fast_Y_sc.copy()\n",
    "fast_Y_sc_xf[control_units,:] = honest_predictions_fast\n",
    "print_summary(fast_fit, Y_pre, Y_post, fast_Y_sc_xf, fast=True)\n",
    "\n",
    "print(\"Cross fit2\")\n",
    "print(\"Start time: {}\".format(datetime.datetime.now().replace(microsecond=0)))\n",
    "honest_predictions_fast2, cf_fits_fast2 = SC.get_c_predictions_honest(X_Y_pre[control_units,:], Y_post[control_units,:], Y[control_units,:], cf_folds=38, verbose=1, progress=False, fast=True, n_multi=n_multi, w_pen_inner=False)\n",
    "print(\"End time: {}\".format(datetime.datetime.now().replace(microsecond=0)))\n",
    "fast_Y_sc_xf2 = fast_Y_sc.copy()\n",
    "fast_Y_sc_xf2[control_units,:] = honest_predictions_fast2\n",
    "print_summary(fast_fit, Y_pre, Y_post, fast_Y_sc_xf2, fast=True)"
   ]
  },
  {
   "cell_type": "code",
   "execution_count": null,
   "metadata": {},
   "outputs": [],
   "source": []
  },
  {
   "source": [
    "# Full"
   ],
   "cell_type": "markdown",
   "metadata": {}
  },
  {
   "cell_type": "code",
   "execution_count": 21,
   "metadata": {},
   "outputs": [
    {
     "output_type": "stream",
     "name": "stdout",
     "text": [
      "Start time: 2021-01-21 14:12:54\n",
      "End time: 2021-01-21 14:17:43\n",
      "V>0: [0.04306114 0.04854367 0.05662882 0.05987692 0.0607689  0.06293688\n",
      " 0.0692605  0.06679674 0.06189289 0.05663904 0.05521077 0.05218668\n",
      " 0.05268511 0.04874349 0.04189329 0.04094062 0.0411164  0.03987489\n",
      " 0.04094325]\n",
      "#V>0: 1.0\n",
      "['cigsale(1970)' 'cigsale(1971)' 'cigsale(1972)' 'cigsale(1973)'\n",
      " 'cigsale(1974)' 'cigsale(1975)' 'cigsale(1976)' 'cigsale(1977)'\n",
      " 'cigsale(1978)' 'cigsale(1979)' 'cigsale(1980)' 'cigsale(1981)'\n",
      " 'cigsale(1982)' 'cigsale(1983)' 'cigsale(1984)' 'cigsale(1985)'\n",
      " 'cigsale(1986)' 'cigsale(1987)' 'cigsale(1988)']\n",
      "Avg bias pre: -0.0011602726698260735\n",
      "Ttest_1sampResult(statistic=-0.02574678064478845, pvalue=0.9794664348511534)\n",
      "Avg MSE pre: 1.4642320989368507\n",
      "Avg max abs val pre:4.625741609061293\n",
      "Avg bias post: -0.2166529637721898\n",
      "Ttest_1sampResult(statistic=-0.37873110147816, pvalue=0.7050642121675874)\n",
      "Avg MSE post: 148.94146183684256\n",
      "Avg max abs val post:33.15973068544222\n"
     ]
    }
   ],
   "source": [
    "#Try with the simplex constraints\n",
    "print(\"Start time: {}\".format(datetime.datetime.now().replace(microsecond=0)))\n",
    "full_simplex_fit = SC.fit(X_Y_pre, Y_post, treated_units=[i_t], verbose=0, progress=False, print_path=False, constrain=\"simplex\", w_pen_inner=True)\n",
    "print(\"End time: {}\".format(datetime.datetime.now().replace(microsecond=0)))\n",
    "full_simplex_Y_sc = full_simplex_fit.predict(Y)\n",
    "print_summary(full_simplex_fit, Y_pre, Y_post, full_simplex_Y_sc)"
   ]
  },
  {
   "cell_type": "code",
   "execution_count": 22,
   "metadata": {},
   "outputs": [
    {
     "output_type": "stream",
     "name": "stdout",
     "text": [
      "Start time: 2021-01-21 14:17:43\n",
      "CROSS-FITTING:\n",
      " |>>>>>>>>>>>>>>>>>>>>>>>>>>>>>>>>>>>>>>>>>>>>>>>>>>>>>>>>>>>>>>>>>>>>>>>>>>>>>>>>>>>>>>>>>>>>>>>>>>>>| \n",
      "End time: 2021-01-21 14:18:06\n",
      "V>0: [0.04306114 0.04854367 0.05662882 0.05987692 0.0607689  0.06293688\n",
      " 0.0692605  0.06679674 0.06189289 0.05663904 0.05521077 0.05218668\n",
      " 0.05268511 0.04874349 0.04189329 0.04094062 0.0411164  0.03987489\n",
      " 0.04094325]\n",
      "#V>0: 1.0\n",
      "['cigsale(1970)' 'cigsale(1971)' 'cigsale(1972)' 'cigsale(1973)'\n",
      " 'cigsale(1974)' 'cigsale(1975)' 'cigsale(1976)' 'cigsale(1977)'\n",
      " 'cigsale(1978)' 'cigsale(1979)' 'cigsale(1980)' 'cigsale(1981)'\n",
      " 'cigsale(1982)' 'cigsale(1983)' 'cigsale(1984)' 'cigsale(1985)'\n",
      " 'cigsale(1986)' 'cigsale(1987)' 'cigsale(1988)']\n",
      "Avg bias pre: 0.0015822540029594443\n",
      "Ttest_1sampResult(statistic=0.032882573687673514, pvalue=0.9737773300560144)\n",
      "Avg MSE pre: 1.6693858119951455\n",
      "Avg max abs val pre:4.655962492290296\n",
      "Avg bias post: 0.15039805362099096\n",
      "Ttest_1sampResult(statistic=0.3338079183941443, pvalue=0.7386782948665156)\n",
      "Avg MSE post: 92.38658271567833\n",
      "Avg max abs val post:27.890668869018555\n"
     ]
    }
   ],
   "source": [
    "# Cross-fitting keeping the full-fit penalty parameters\n",
    "print(\"Start time: {}\".format(datetime.datetime.now().replace(microsecond=0)))\n",
    "honest_predictions_simplex, cf_fits_full_simplex = SC.get_c_predictions_honest(X_Y_pre[control_units,:], Y_post[control_units,:], Y[control_units,:], w_pen=full_simplex_fit.fitted_w_pen, v_pen=full_simplex_fit.fitted_v_pen, cf_folds=38, verbose=1, progress=False, fast=False, n_multi=n_multi, constrain=\"simplex\", w_pen_inner=True)\n",
    "print(\"End time: {}\".format(datetime.datetime.now().replace(microsecond=0)))\n",
    "full_simplex_Y_sc_xf = full_simplex_Y_sc.copy()\n",
    "full_simplex_Y_sc_xf[control_units,:] = honest_predictions_simplex\n",
    "print_summary(full_simplex_fit, Y_pre, Y_post, full_simplex_Y_sc_xf)"
   ]
  },
  {
   "cell_type": "code",
   "execution_count": 23,
   "metadata": {},
   "outputs": [
    {
     "output_type": "stream",
     "name": "stdout",
     "text": [
      "Start time: 2021-01-21 14:18:06\n",
      "CROSS-FITTING:\n",
      " |>>>>>>>>>>>>>>>>>>>>>>>>>>>>>>>>>>>>>>>>>>>>>>>>>>>>>>>>>>>>>>>>>>>>>>>>>>>>>>>>>>>>>>>>>>>>>>>>>>>>| \n",
      "End time: 2021-01-21 15:05:21\n",
      "V>0: [0.04306114 0.04854367 0.05662882 0.05987692 0.0607689  0.06293688\n",
      " 0.0692605  0.06679674 0.06189289 0.05663904 0.05521077 0.05218668\n",
      " 0.05268511 0.04874349 0.04189329 0.04094062 0.0411164  0.03987489\n",
      " 0.04094325]\n",
      "#V>0: 1.0\n",
      "['cigsale(1970)' 'cigsale(1971)' 'cigsale(1972)' 'cigsale(1973)'\n",
      " 'cigsale(1974)' 'cigsale(1975)' 'cigsale(1976)' 'cigsale(1977)'\n",
      " 'cigsale(1978)' 'cigsale(1979)' 'cigsale(1980)' 'cigsale(1981)'\n",
      " 'cigsale(1982)' 'cigsale(1983)' 'cigsale(1984)' 'cigsale(1985)'\n",
      " 'cigsale(1986)' 'cigsale(1987)' 'cigsale(1988)']\n",
      "Avg bias pre: 0.001587579785291508\n",
      "Ttest_1sampResult(statistic=0.03299404783990875, pvalue=0.9736884656718933)\n",
      "Avg MSE pre: 1.6693055667696615\n",
      "Avg max abs val pre:4.655921132940995\n",
      "Avg bias post: 0.1503795071652061\n",
      "Ttest_1sampResult(statistic=0.33376497828759094, pvalue=0.7387106781768322)\n",
      "Avg MSE post: 92.38756027301909\n",
      "Avg max abs val post:27.890770594278973\n"
     ]
    }
   ],
   "source": [
    "# Cross-fitting re-estimating the penalty parameters\n",
    "print(\"Start time: {}\".format(datetime.datetime.now().replace(microsecond=0)))\n",
    "honest_predictions_simplex2, cf_fits_full_simplex2 = SC.get_c_predictions_honest(X_Y_pre[control_units,:], Y_post[control_units,:], Y[control_units,:], cf_folds=38, verbose=1, progress=False, fast=False, n_multi=n_multi, constrain=\"simplex\", w_pen_inner=True)\n",
    "print(\"End time: {}\".format(datetime.datetime.now().replace(microsecond=0)))\n",
    "full_simplex2_Y_sc_xf = full_simplex_Y_sc.copy()\n",
    "full_simplex2_Y_sc_xf[control_units,:] = honest_predictions_simplex2\n",
    "print_summary(full_simplex_fit, Y_pre, Y_post, full_simplex2_Y_sc_xf)"
   ]
  },
  {
   "cell_type": "code",
   "execution_count": null,
   "metadata": {},
   "outputs": [],
   "source": []
  }
 ],
 "metadata": {
  "kernelspec": {
   "name": "python3",
   "display_name": "Python 3.6.8 64-bit",
   "metadata": {
    "interpreter": {
     "hash": "d5e4199e480c30e65d4fb20d3cd9d777774bdb7741bde6dbd2b401b3aff7fdac"
    }
   }
  },
  "language_info": {
   "codemirror_mode": {
    "name": "ipython",
    "version": 3
   },
   "file_extension": ".py",
   "mimetype": "text/x-python",
   "name": "python",
   "nbconvert_exporter": "python",
   "pygments_lexer": "ipython3",
   "version": "3.6.8-final"
  }
 },
 "nbformat": 4,
 "nbformat_minor": 4
}